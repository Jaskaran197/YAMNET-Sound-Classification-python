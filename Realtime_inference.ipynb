{
 "cells": [
  {
   "cell_type": "code",
   "execution_count": 1,
   "metadata": {},
   "outputs": [],
   "source": [
    "from __future__ import division, print_function\n",
    "\n",
    "import sys\n",
    "\n",
    "import numpy as np\n",
    "import resampy\n",
    "import soundfile as sf\n",
    "import tensorflow as tf\n",
    "\n",
    "import params\n",
    "import yamnet as yamnet_model\n",
    "\n",
    "import pyaudio\n",
    "from array import array\n",
    "import wave"
   ]
  },
  {
   "cell_type": "code",
   "execution_count": 2,
   "metadata": {},
   "outputs": [],
   "source": [
    "interpreter = tf.lite.Interpreter(model_path=\"yamnet.tflite\")\n",
    "interpreter.allocate_tensors()\n",
    "inputs = interpreter.get_input_details()\n",
    "outputs = interpreter.get_output_details()\n",
    "\n",
    "yamnet_classes = yamnet_model.class_names('yamnet_class_map.csv')"
   ]
  },
  {
   "cell_type": "code",
   "execution_count": 3,
   "metadata": {},
   "outputs": [
    {
     "name": "stdout",
     "output_type": "stream",
     "text": [
      "[{'name': 'input_3', 'index': 0, 'shape': array([    1, 15600]), 'shape_signature': array([    1, 15600]), 'dtype': <class 'numpy.float32'>, 'quantization': (0.0, 0), 'quantization_parameters': {'scales': array([], dtype=float32), 'zero_points': array([], dtype=int32), 'quantized_dimension': 0}, 'sparsity_parameters': {}}]\n"
     ]
    }
   ],
   "source": [
    "print(inputs)"
   ]
  },
  {
   "cell_type": "code",
   "execution_count": 4,
   "metadata": {},
   "outputs": [
    {
     "name": "stdout",
     "output_type": "stream",
     "text": [
      "[{'name': 'Identity', 'index': 123, 'shape': array([  1, 521]), 'shape_signature': array([  1, 521]), 'dtype': <class 'numpy.float32'>, 'quantization': (0.0, 0), 'quantization_parameters': {'scales': array([], dtype=float32), 'zero_points': array([], dtype=int32), 'quantized_dimension': 0}, 'sparsity_parameters': {}}, {'name': 'Identity_1', 'index': 89, 'shape': array([96, 64]), 'shape_signature': array([96, 64]), 'dtype': <class 'numpy.float32'>, 'quantization': (0.0, 0), 'quantization_parameters': {'scales': array([], dtype=float32), 'zero_points': array([], dtype=int32), 'quantized_dimension': 0}, 'sparsity_parameters': {}}]\n"
     ]
    }
   ],
   "source": [
    "print(outputs)"
   ]
  },
  {
   "cell_type": "code",
   "execution_count": 14,
   "metadata": {},
   "outputs": [],
   "source": [
    "file_name=r'examples/baby_975ms.wav'"
   ]
  },
  {
   "cell_type": "code",
   "execution_count": 15,
   "metadata": {},
   "outputs": [],
   "source": [
    "wav_data, sr = sf.read(file_name, dtype=np.int16)\n",
    "assert wav_data.dtype == np.int16, 'Bad sample type: %r' % wav_data.dtype\n",
    "waveform = wav_data / 32768.0  # Convert to [-1.0, +1.0]\n",
    "\n",
    "# Convert to mono and the sample rate expected by YAMNet.\n",
    "if len(waveform.shape) > 1:\n",
    "  waveform = np.mean(waveform, axis=1)\n",
    "if sr != params.SAMPLE_RATE:\n",
    "  waveform = resampy.resample(waveform, sr, params.SAMPLE_RATE)\n"
   ]
  },
  {
   "cell_type": "code",
   "execution_count": 16,
   "metadata": {},
   "outputs": [
    {
     "name": "stdout",
     "output_type": "stream",
     "text": [
      "examples/baby_975ms.wav :\n",
      "  Crying, sobbing: 0.870\n",
      "  Baby cry, infant cry: 0.803\n",
      "  Whimper     : 0.183\n",
      "  Inside, small room: 0.033\n",
      "  Babbling    : 0.027\n"
     ]
    }
   ],
   "source": [
    "interpreter.set_tensor(inputs[0]['index'], np.expand_dims(np.array(waveform, dtype=np.float32), axis=0))\n",
    "interpreter.invoke()\n",
    "scores = interpreter.get_tensor(outputs[0]['index'])\n",
    "\n",
    "# Scores is a matrix of (time_frames, num_classes) classifier scores.\n",
    "# Average them along time to get an overall classifier output for the clip.\n",
    "prediction = np.mean(scores, axis=0)\n",
    "# Report the highest-scoring classes and their scores.\n",
    "top5_i = np.argsort(prediction)[::-1][:5]\n",
    "print(file_name, ':\\n' + \n",
    "      '\\n'.join('  {:12s}: {:.3f}'.format(yamnet_classes[i], prediction[i])\n",
    "                for i in top5_i))"
   ]
  },
  {
   "cell_type": "code",
   "execution_count": 31,
   "metadata": {},
   "outputs": [],
   "source": [
    "def classify_sound(file_name):\n",
    "    wav_data, sr = sf.read(file_name, dtype=np.int16)\n",
    "    assert wav_data.dtype == np.int16, 'Bad sample type: %r' % wav_data.dtype\n",
    "    waveform = wav_data / 32768.0  # Convert to [-1.0, +1.0]\n",
    "\n",
    "    # Convert to mono and the sample rate expected by YAMNet.\n",
    "    if len(waveform.shape) > 1:\n",
    "      waveform = np.mean(waveform, axis=1)\n",
    "    if sr != params.SAMPLE_RATE:\n",
    "      waveform = resampy.resample(waveform, sr, params.SAMPLE_RATE)\n",
    "\n",
    "    interpreter.set_tensor(inputs[0]['index'], np.expand_dims(np.array(waveform, dtype=np.float32), axis=0))\n",
    "    interpreter.invoke()\n",
    "    scores = interpreter.get_tensor(outputs[0]['index'])\n",
    "\n",
    "    # Scores is a matrix of (time_frames, num_classes) classifier scores.\n",
    "    # Average them along time to get an overall classifier output for the clip.\n",
    "    prediction = np.mean(scores, axis=0)\n",
    "    # Report the highest-scoring classes and their scores.\n",
    "    top5_i = np.argsort(prediction)[::-1][:5]\n",
    "    print( '\\n'.join('  {:12s}: {:.3f}'.format(yamnet_classes[i], prediction[i])\n",
    "                    for i in top5_i))\n"
   ]
  },
  {
   "cell_type": "code",
   "execution_count": 32,
   "metadata": {},
   "outputs": [
    {
     "name": "stdout",
     "output_type": "stream",
     "text": [
      "  Crying, sobbing: 0.870\n",
      "  Baby cry, infant cry: 0.803\n",
      "  Whimper     : 0.183\n",
      "  Inside, small room: 0.033\n",
      "  Babbling    : 0.027\n"
     ]
    }
   ],
   "source": [
    "classify_sound(file_name)"
   ]
  },
  {
   "cell_type": "code",
   "execution_count": 33,
   "metadata": {},
   "outputs": [],
   "source": []
  },
  {
   "cell_type": "code",
   "execution_count": 34,
   "metadata": {},
   "outputs": [
    {
     "name": "stdout",
     "output_type": "stream",
     "text": [
      "Triggered\n",
      "  Speech      : 0.909\n",
      "  Narration, monologue: 0.010\n",
      "  Inside, small room: 0.007\n",
      "  Clicking    : 0.006\n",
      "  Silence     : 0.005\n",
      "Triggered\n",
      "  Silence     : 0.184\n",
      "  Clicking    : 0.108\n",
      "  Typing      : 0.092\n",
      "  Computer keyboard: 0.058\n",
      "  Inside, small room: 0.053\n"
     ]
    },
    {
     "ename": "KeyboardInterrupt",
     "evalue": "",
     "output_type": "error",
     "traceback": [
      "\u001b[1;31m---------------------------------------------------------------------------\u001b[0m",
      "\u001b[1;31mKeyboardInterrupt\u001b[0m                         Traceback (most recent call last)",
      "\u001b[1;32m<ipython-input-34-cda6dcb359af>\u001b[0m in \u001b[0;36m<module>\u001b[1;34m\u001b[0m\n\u001b[0;32m     18\u001b[0m     \u001b[0mframes\u001b[0m\u001b[1;33m=\u001b[0m\u001b[1;33m[\u001b[0m\u001b[1;33m]\u001b[0m\u001b[1;33m\u001b[0m\u001b[1;33m\u001b[0m\u001b[0m\n\u001b[0;32m     19\u001b[0m     \u001b[1;32mwhile\u001b[0m\u001b[1;33m(\u001b[0m\u001b[1;32mTrue\u001b[0m\u001b[1;33m)\u001b[0m\u001b[1;33m:\u001b[0m\u001b[1;33m\u001b[0m\u001b[1;33m\u001b[0m\u001b[0m\n\u001b[1;32m---> 20\u001b[1;33m         \u001b[0mold_data\u001b[0m\u001b[1;33m=\u001b[0m\u001b[0mstream\u001b[0m\u001b[1;33m.\u001b[0m\u001b[0mread\u001b[0m\u001b[1;33m(\u001b[0m\u001b[0mCHUNK_THRESH\u001b[0m\u001b[1;33m)\u001b[0m\u001b[1;33m\u001b[0m\u001b[1;33m\u001b[0m\u001b[0m\n\u001b[0m\u001b[0;32m     21\u001b[0m         \u001b[0mdata_chunk\u001b[0m\u001b[1;33m=\u001b[0m\u001b[0marray\u001b[0m\u001b[1;33m(\u001b[0m\u001b[1;34m'h'\u001b[0m\u001b[1;33m,\u001b[0m\u001b[0mold_data\u001b[0m\u001b[1;33m)\u001b[0m\u001b[1;33m\u001b[0m\u001b[1;33m\u001b[0m\u001b[0m\n\u001b[0;32m     22\u001b[0m         \u001b[0mvol\u001b[0m\u001b[1;33m=\u001b[0m\u001b[0mmax\u001b[0m\u001b[1;33m(\u001b[0m\u001b[0mdata_chunk\u001b[0m\u001b[1;33m)\u001b[0m\u001b[1;33m\u001b[0m\u001b[1;33m\u001b[0m\u001b[0m\n",
      "\u001b[1;32m~\\.conda\\envs\\keras\\lib\\site-packages\\pyaudio.py\u001b[0m in \u001b[0;36mread\u001b[1;34m(self, num_frames, exception_on_overflow)\u001b[0m\n\u001b[0;32m    606\u001b[0m                           paCanNotReadFromAnOutputOnlyStream)\n\u001b[0;32m    607\u001b[0m \u001b[1;33m\u001b[0m\u001b[0m\n\u001b[1;32m--> 608\u001b[1;33m         \u001b[1;32mreturn\u001b[0m \u001b[0mpa\u001b[0m\u001b[1;33m.\u001b[0m\u001b[0mread_stream\u001b[0m\u001b[1;33m(\u001b[0m\u001b[0mself\u001b[0m\u001b[1;33m.\u001b[0m\u001b[0m_stream\u001b[0m\u001b[1;33m,\u001b[0m \u001b[0mnum_frames\u001b[0m\u001b[1;33m,\u001b[0m \u001b[0mexception_on_overflow\u001b[0m\u001b[1;33m)\u001b[0m\u001b[1;33m\u001b[0m\u001b[1;33m\u001b[0m\u001b[0m\n\u001b[0m\u001b[0;32m    609\u001b[0m \u001b[1;33m\u001b[0m\u001b[0m\n\u001b[0;32m    610\u001b[0m     \u001b[1;32mdef\u001b[0m \u001b[0mget_read_available\u001b[0m\u001b[1;33m(\u001b[0m\u001b[0mself\u001b[0m\u001b[1;33m)\u001b[0m\u001b[1;33m:\u001b[0m\u001b[1;33m\u001b[0m\u001b[1;33m\u001b[0m\u001b[0m\n",
      "\u001b[1;31mKeyboardInterrupt\u001b[0m: "
     ]
    }
   ],
   "source": [
    "FORMAT=pyaudio.paInt16\n",
    "CHANNELS=1\n",
    "RATE=16000\n",
    "CHUNK=50\n",
    "CHUNK_THRESH=64\n",
    "RECORD_SECONDS=0.975\n",
    "FILE_NAME=\"RECORDING.wav\"\n",
    "while(True):\n",
    "    audio=pyaudio.PyAudio() #instantiate the pyaudio\n",
    "\n",
    "    #recording prerequisites\n",
    "    stream=audio.open(format=FORMAT,channels=CHANNELS, \n",
    "                      rate=RATE,\n",
    "                      input=True,\n",
    "                      frames_per_buffer=CHUNK)\n",
    "\n",
    "    #starting recording\n",
    "    frames=[]\n",
    "    while(True):\n",
    "        old_data=stream.read(CHUNK_THRESH)\n",
    "        data_chunk=array('h',old_data)\n",
    "        vol=max(data_chunk)\n",
    "        #print(old_data)\n",
    "        if(vol>=600):\n",
    "            print('Triggered')\n",
    "            #frames.append(old_data)\n",
    "            break\n",
    "    for i in range(0,int(RATE/CHUNK*RECORD_SECONDS)):\n",
    "        #frames.append(old_data)\n",
    "        data=stream.read(CHUNK)\n",
    "        data_chunk=array('h',data)\n",
    "        vol=max(data_chunk)\n",
    "        #if(vol>=300):\n",
    "         #   print(\"something said\")\n",
    "        frames.append(data)\n",
    "        #else:\n",
    "            #print(\"nothing\")\n",
    "        #print(\"\\n\")\n",
    "\n",
    "\n",
    "    #end of recording\n",
    "    stream.stop_stream()\n",
    "    stream.close()\n",
    "    audio.terminate()\n",
    "    #writing to file\n",
    "    wavfile=wave.open(FILE_NAME,'wb')\n",
    "    wavfile.setnchannels(CHANNELS)\n",
    "    wavfile.setsampwidth(audio.get_sample_size(FORMAT))\n",
    "    wavfile.setframerate(RATE)\n",
    "    wavfile.writeframes(b''.join(frames))#append frames recorded to file\n",
    "    wavfile.close()\n",
    "    \n",
    "    classify_sound(FILE_NAME)\n",
    "       "
   ]
  },
  {
   "cell_type": "code",
   "execution_count": null,
   "metadata": {},
   "outputs": [],
   "source": [
    "\n"
   ]
  }
 ],
 "metadata": {
  "kernelspec": {
   "display_name": "Python (keras)",
   "language": "python",
   "name": "keras"
  },
  "language_info": {
   "codemirror_mode": {
    "name": "ipython",
    "version": 3
   },
   "file_extension": ".py",
   "mimetype": "text/x-python",
   "name": "python",
   "nbconvert_exporter": "python",
   "pygments_lexer": "ipython3",
   "version": "3.6.9"
  }
 },
 "nbformat": 4,
 "nbformat_minor": 2
}
