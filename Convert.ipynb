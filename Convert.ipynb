{
 "cells": [
  {
   "cell_type": "code",
   "execution_count": 1,
   "metadata": {},
   "outputs": [],
   "source": [
    "import tensorflow as tf\n",
    "from tensorflow.keras import Model, layers\n",
    "import features as features_lib\n",
    "import features_tflite as features_tflite_lib\n",
    "import params\n",
    "from yamnet import yamnet"
   ]
  },
  {
   "cell_type": "code",
   "execution_count": 2,
   "metadata": {},
   "outputs": [],
   "source": [
    "def yamnet_frames_tflite_model(feature_params):\n",
    "    \"\"\"Defines the YAMNet waveform-to-class-scores model,\n",
    "    suitable for tflite conversion.\n",
    "\n",
    "    Args:\n",
    "      feature_params: An object with parameter fields to control the feature\n",
    "      calculation.\n",
    "\n",
    "    Returns:\n",
    "      A model accepting (1, num_samples) waveform input and emitting a\n",
    "      (num_patches, num_classes) matrix of class scores per time frame as\n",
    "      well as a (num_spectrogram_frames, num_mel_bins) spectrogram feature\n",
    "      matrix.\n",
    "    \"\"\"\n",
    "    num_samples = int(round(params.SAMPLE_RATE * 0.975))\n",
    "    waveform = layers.Input(batch_shape=(1, num_samples))\n",
    "    # Store the intermediate spectrogram features to use in visualization.\n",
    "    spectrogram = features_tflite_lib.waveform_to_log_mel_spectrogram(\n",
    "        tf.squeeze(waveform, axis=0), feature_params)\n",
    "    patches = features_lib.spectrogram_to_patches(spectrogram, feature_params)\n",
    "    predictions = yamnet(patches)\n",
    "    frames_model = Model(name='yamnet_frames',\n",
    "                         inputs=waveform, outputs=[predictions, spectrogram])\n",
    "    return frames_model\n"
   ]
  },
  {
   "cell_type": "code",
   "execution_count": 5,
   "metadata": {},
   "outputs": [
    {
     "name": "stdout",
     "output_type": "stream",
     "text": [
      "INFO:tensorflow:Assets written to: C:\\Users\\bhogal\\AppData\\Local\\Temp\\tmpjjlvhw_n\\assets\n"
     ]
    },
    {
     "name": "stderr",
     "output_type": "stream",
     "text": [
      "INFO:tensorflow:Assets written to: C:\\Users\\bhogal\\AppData\\Local\\Temp\\tmpjjlvhw_n\\assets\n"
     ]
    },
    {
     "data": {
      "text/plain": [
       "4292304"
      ]
     },
     "execution_count": 5,
     "metadata": {},
     "output_type": "execute_result"
    }
   ],
   "source": [
    "model = yamnet_frames_tflite_model(params)\n",
    "model.load_weights('yamnet.h5')\n",
    "\n",
    "# Convert the model\n",
    "converter = tf.lite.TFLiteConverter.from_keras_model(model)\n",
    "converter.optimizations = [tf.lite.Optimize.DEFAULT]\n",
    "converter.experimental_new_converter = True\n",
    "tflite_model = converter.convert()\n",
    "open(\"yamnet.tflite\", \"wb\").write(tflite_model)\n"
   ]
  },
  {
   "cell_type": "code",
   "execution_count": null,
   "metadata": {},
   "outputs": [],
   "source": []
  }
 ],
 "metadata": {
  "kernelspec": {
   "display_name": "Python (keras)",
   "language": "python",
   "name": "keras"
  },
  "language_info": {
   "codemirror_mode": {
    "name": "ipython",
    "version": 3
   },
   "file_extension": ".py",
   "mimetype": "text/x-python",
   "name": "python",
   "nbconvert_exporter": "python",
   "pygments_lexer": "ipython3",
   "version": "3.6.9"
  }
 },
 "nbformat": 4,
 "nbformat_minor": 2
}
